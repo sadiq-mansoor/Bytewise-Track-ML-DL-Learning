{
 "cells": [
  {
   "cell_type": "markdown",
   "id": "8f49b8f3",
   "metadata": {},
   "source": [
    "------------------------------------------------\n",
    "Question 1\n",
    "\n",
    "Write a code that will:\n",
    "1. Prompt the user to enter their name, age, email, and favorite number.\n",
    "2. Stores these inputs in a dictionary with appropriate keys.\n",
    "3. Validate the email format (contains \"@\" and \".\").\n",
    "4. Displays a message using these variables, formatted as: \n",
    "    \"Hello [name], you are [age] years old, your email is [email], and your favorite number is [favorite number].\""
   ]
  },
  {
   "cell_type": "code",
   "execution_count": 19,
   "id": "c8e94394",
   "metadata": {},
   "outputs": [
    {
     "name": "stdout",
     "output_type": "stream",
     "text": [
      "Enter your name: sadiq\n",
      "Enter your age: 20\n",
      "Enter your email: sadiq@gmail.com\n",
      "Enter your favourite number: 2\n",
      "Hello sadiq, you are 20 years old, your email is sadiq@gmail.com, and your favorite number is 2.\n"
     ]
    }
   ],
   "source": [
    "def get_info():\n",
    "    #Ask user to enter name, age, email and favourite number of their choice\n",
    "    name = input(\"Enter your name: \")\n",
    "    age = input(\"Enter your age: \")\n",
    "    email = input(\"Enter your email: \")\n",
    "    favorite_number = input(\"Enter your favourite number: \")\n",
    "\n",
    "    #creating dictionary to store info\n",
    "    info = {\n",
    "        \"name\": name,\n",
    "        \"age\": age,\n",
    "        \"email\": email,\n",
    "        \"favorite_number\": favorite_number\n",
    "    }\n",
    "\n",
    "    if \"@\" in email and \".\" in email:\n",
    "        print(f\"Hello {info['name']}, you are {info['age']} years old, your email is {info['email']}, and your favorite number is {info['favorite_number']}.\")\n",
    "    else:\n",
    "        print(\"Invalid email format. Please try again.\")\n",
    "get_info()"
   ]
  },
  {
   "cell_type": "markdown",
   "id": "7fd2d6bc",
   "metadata": {},
   "source": [
    "---------------------------------------------\n",
    "Question 2\n",
    "\n",
    "Write a code for a function \"---Is_even(number)----\" that will:\n",
    "    1. Takes an integer as an input.\n",
    "    2. Returns True if the number is even, otherwise False if the number is odd.\n",
    "    3. Print whether the number was even or odd hint: use conditions\n"
   ]
  },
  {
   "cell_type": "code",
   "execution_count": 3,
   "id": "98aa5c1b",
   "metadata": {},
   "outputs": [
    {
     "name": "stdout",
     "output_type": "stream",
     "text": [
      "Enter a number: 3\n",
      "The provided number is odd\n"
     ]
    },
    {
     "data": {
      "text/plain": [
       "False"
      ]
     },
     "execution_count": 3,
     "metadata": {},
     "output_type": "execute_result"
    }
   ],
   "source": [
    "def Is_even(number):\n",
    "    if number % 2 == 0:\n",
    "        print(\"The provided number is even\")\n",
    "        return True\n",
    "    else:\n",
    "        print(\"The provided number is odd\")\n",
    "        return False\n",
    "number = int(input(\"Enter a number: \"))\n",
    "Is_even(number)"
   ]
  },
  {
   "cell_type": "markdown",
   "id": "6d2a7dd8",
   "metadata": {},
   "source": [
    "--------------------------------------------\n",
    "Question 3\n",
    "\n",
    "Write a function \"-- convert_temperature(temp, scale)--\" that:\n",
    "    1. Takes a temperature value and a scale (\"C\" for Celsius, \"F\" for Fahrenheit) as inputs.\n",
    "    2. Converts the temperature to the other scale.\n",
    "    3. Returns the converted temperature.\n",
    "    4. Display the converted temperature."
   ]
  },
  {
   "cell_type": "code",
   "execution_count": 12,
   "id": "4dc31d7a",
   "metadata": {},
   "outputs": [
    {
     "name": "stdout",
     "output_type": "stream",
     "text": [
      "Enter the temperature value: 23\n",
      "Enter the scale ('C' for Celsius, 'F' for Fahrenheit): f\n",
      "23.0°F is -5.00°C\n"
     ]
    }
   ],
   "source": [
    "def convert_temperature(temp, scale):\n",
    "    if scale == \"C\":\n",
    "        converted_temp = (temp * 9/5) + 32\n",
    "        print(f\"{temp}°C is {converted_temp:.2f}°F\")\n",
    "        return converted_temp\n",
    "    elif scale == \"F\":\n",
    "        converted_temp = (temp - 32) * 5/9\n",
    "        print(f\"{temp}°F is {converted_temp:.2f}°C\")\n",
    "        return converted_temp\n",
    "    else:\n",
    "        print(\"Invalid scale. Please use 'C' for Celsius or 'F' for Fahrenheit.\")\n",
    "        return None\n",
    "    \n",
    "temperature = float(input(\"Enter the temperature value: \"))\n",
    "scale = input(\"Enter the scale ('C' for Celsius, 'F' for Fahrenheit): \").upper()\n",
    "converted_temp = convert_temperature(temperature, scale)"
   ]
  },
  {
   "cell_type": "markdown",
   "id": "89749372",
   "metadata": {},
   "source": [
    "--------------------------------------------------------\n",
    "Question 4\n",
    "\n",
    "Write a code that will:\n",
    "    \n",
    "    1. Contains a function `find_max_min(numbers_list)` that\n",
    "        takes a list of numbers and returns both the maximum and \n",
    "        minimum numbers in the list.\n",
    "    2. Prompts the user to enter 5 numbers, stores them in a list, \n",
    "    and then uses the `find_max_min` function to find and \n",
    "    display the maximum and minimum numbers."
   ]
  },
  {
   "cell_type": "code",
   "execution_count": 13,
   "id": "fd8ab00e",
   "metadata": {},
   "outputs": [
    {
     "name": "stdout",
     "output_type": "stream",
     "text": [
      "Enter number 1: 2\n",
      "Enter number 2: 3\n",
      "Enter number 3: 4\n",
      "Enter number 4: 5\n",
      "Enter number 5: 6\n",
      "The minimum number is: 2.0\n",
      "The maximum number is: 6.0\n"
     ]
    }
   ],
   "source": [
    "def find_max_min(numbers_list):\n",
    "    \n",
    "    if not numbers_list:\n",
    "        return None, None\n",
    "    \n",
    "    min_number = min(numbers_list)\n",
    "    max_number = max(numbers_list)\n",
    "    \n",
    "    return min_number, max_number\n",
    "\n",
    "#initializing empty list\n",
    "numbers = []\n",
    "\n",
    "#taking 5 numbers from user\n",
    "for i in range(5):\n",
    "    num = float(input(f\"Enter number {i+1}: \"))\n",
    "    numbers.append(num)\n",
    "\n",
    "min_num, max_num = find_max_min(numbers)\n",
    "\n",
    "# Check if both min_num and max_num are not None\n",
    "if min_num is not None and max_num is not None:\n",
    "    print(f\"The minimum number is: {min_num}\")\n",
    "    print(f\"The maximum number is: {max_num}\")\n",
    "else:\n",
    "    print(\"Empty list provided. Cannot find minimum and maximum.\")\n"
   ]
  },
  {
   "cell_type": "markdown",
   "id": "9eff570f",
   "metadata": {},
   "source": [
    "-----------------------------------------------------------\n",
    "Question 5\n",
    "\n",
    "Write a code that will:\n",
    "\n",
    "    1. Prompt the user to enter details of 3 students: name, age, and grade.\n",
    "    2. Stores these details in a list of tuples with each tuple containing the name, age, and grade of a student.\n",
    "    3. Convert this list of tuples into a dictionary with the student name as the key and the tuple (age, grade) as the value.\n",
    "    4. Displays an appropriate output."
   ]
  },
  {
   "cell_type": "code",
   "execution_count": 14,
   "id": "91e45ee1",
   "metadata": {},
   "outputs": [
    {
     "name": "stdout",
     "output_type": "stream",
     "text": [
      "Enter name of student 1: sadiq\n",
      "Enter age of student 1: 20\n",
      "Enter grade of student 1: 3\n",
      "Enter name of student 2: ali\n",
      "Enter age of student 2: 20\n",
      "Enter grade of student 2: 4\n",
      "Enter name of student 3: wisal\n",
      "Enter age of student 3: 20\n",
      "Enter grade of student 3: 3.5\n",
      "\n",
      "Student Details:\n",
      "Name: sadiq, Age: 20, Grade: 3.0\n",
      "Name: ali, Age: 20, Grade: 4.0\n",
      "Name: wisal, Age: 20, Grade: 3.5\n"
     ]
    }
   ],
   "source": [
    "def create_student_dict(students_list):\n",
    "\n",
    "    #initialzing dictionary\n",
    "    student_dict = {}\n",
    "    \n",
    "    # Iterate over each tuple in students_list\n",
    "    for student in students_list:\n",
    "        name, age, grade = student\n",
    "        student_dict[name] = (age, grade)\n",
    "    return student_dict\n",
    "students_list = []\n",
    "\n",
    "#taking student details form user\n",
    "for i in range(3):\n",
    "    name = input(f\"Enter name of student {i+1}: \")\n",
    "    age = int(input(f\"Enter age of student {i+1}: \"))\n",
    "    grade = float(input(f\"Enter grade of student {i+1}: \"))\n",
    "    students_list.append((name, age, grade))\n",
    "\n",
    "#creating dictionary of student details\n",
    "student_dict = create_student_dict(students_list)\n",
    "\n",
    "#printing/showing all the provided details\n",
    "print(\"\\nStudent Details:\")\n",
    "for name, (age, grade) in student_dict.items():\n",
    "    print(f\"Name: {name}, Age: {age}, Grade: {grade}\")\n"
   ]
  },
  {
   "cell_type": "markdown",
   "id": "f7a54535",
   "metadata": {},
   "source": [
    "-------------------------------------------------------\n",
    "-Question 6\n",
    "\n",
    "Write a code for function `update_inventory(inventory_dict, item, quantity)` that will:\n",
    "1. Take a dictionary where keys are item names and values are quantities, an item name, and a quantity to add or remove.\n",
    "2. Updates the inventory by adding or removing the specified quantity (use negative values for removal).\n",
    "3. Ensures that the quantity of any item does not go below zero.\n",
    "4. Returns the updated dictionary.\n",
    "\n",
    "Use this function to\n",
    "1. Initialize an inventory dictionary with at least 5 items.\n",
    "2. Prompt the user to update the inventory by adding or removing quantities of 3 items.\n",
    "3. Display the updated inventory.\n"
   ]
  },
  {
   "cell_type": "code",
   "execution_count": 20,
   "id": "057d16c5",
   "metadata": {},
   "outputs": [
    {
     "name": "stdout",
     "output_type": "stream",
     "text": [
      "The Initial Inventory is: {'Apple': 10, 'Banana': 20, 'Cherry': 30, 'Date': 40, 'Elderberry': 50}\n",
      "Enter the first item to update: Apple\n",
      "Enter the quantity to add or remove: -2\n",
      "Enter the second item to update: Cherry\n",
      "Enter the quantity to add or remove: 3\n",
      "Enter the third item to update: Date\n",
      "Enter the quantity to add or remove: -10\n",
      "\n",
      "Updated Inventory:\n",
      "{'Apple': 8, 'Banana': 20, 'Cherry': 33, 'Date': 30, 'Elderberry': 50}\n"
     ]
    }
   ],
   "source": [
    "def update_inventory(inventory_dict, item, quantity):\n",
    "    if item in inventory_dict:\n",
    "        inventory_dict[item] += quantity\n",
    "        if inventory_dict[item] < 0:\n",
    "            inventory_dict[item] = 0\n",
    "    else:\n",
    "        if quantity > 0:\n",
    "            inventory_dict[item] = quantity\n",
    "    return inventory_dict\n",
    "\n",
    "# Initializing dictionary\n",
    "inventory = {\n",
    "    \"Apple\": 10,\n",
    "    \"Banana\": 20,\n",
    "    \"Cherry\": 30,\n",
    "    \"Date\": 40,\n",
    "    \"Elderberry\": 50\n",
    "}\n",
    "\n",
    "print(\"The Initial Inventory is:\", inventory)\n",
    "\n",
    "\n",
    "\n",
    "# taking input from user to update inventory\n",
    "item1 = input(\"Enter the first item to update: \")\n",
    "quantity1 = int(input(\"Enter the quantity to add or remove: \"))\n",
    "inventory = update_inventory(inventory, item1, quantity1)\n",
    "\n",
    "\n",
    "\n",
    "item2 = input(\"Enter the second item to update: \")\n",
    "quantity2 = int(input(\"Enter the quantity to add or remove: \"))\n",
    "inventory = update_inventory(inventory, item2, quantity2)\n",
    "\n",
    "\n",
    "\n",
    "\n",
    "item3 = input(\"Enter the third item to update: \")\n",
    "quantity3 = int(input(\"Enter the quantity to add or remove: \"))\n",
    "inventory = update_inventory(inventory, item3, quantity3)\n",
    "\n",
    "\n",
    "\n",
    "# Now  Displaying the updated inventory\n",
    "print(\"\\nUpdated Inventory:\")\n",
    "print(inventory)"
   ]
  },
  {
   "cell_type": "code",
   "execution_count": null,
   "id": "5b448fd3",
   "metadata": {},
   "outputs": [],
   "source": []
  }
 ],
 "metadata": {
  "kernelspec": {
   "display_name": "Python 3 (ipykernel)",
   "language": "python",
   "name": "python3"
  },
  "language_info": {
   "codemirror_mode": {
    "name": "ipython",
    "version": 3
   },
   "file_extension": ".py",
   "mimetype": "text/x-python",
   "name": "python",
   "nbconvert_exporter": "python",
   "pygments_lexer": "ipython3",
   "version": "3.11.5"
  }
 },
 "nbformat": 4,
 "nbformat_minor": 5
}
